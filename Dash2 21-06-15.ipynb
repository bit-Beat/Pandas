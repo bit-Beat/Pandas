{
 "cells": [
  {
   "cell_type": "code",
   "execution_count": 1,
   "metadata": {},
   "outputs": [],
   "source": [
    "import pandas as pd\n",
    "import numpy as np\n",
    "import plotly.express as px\n",
    "\n",
    "import dash \n",
    "import dash_table\n",
    "import dash_html_components as html\n",
    "import dash_core_components as dcc\n",
    "import dash_bootstrap_components as dbc\n",
    "\n",
    "from dash.dependencies import Input, Output, State"
   ]
  },
  {
   "cell_type": "code",
   "execution_count": 2,
   "metadata": {},
   "outputs": [],
   "source": [
    "data = px.data.gapminder()\n",
    "\n",
    "radio_item = dcc.RadioItems(\n",
    "            id='radio_item',\n",
    "            options = [{'label':i,'value':i} for i in data.continent.unique()])\n",
    "\n",
    "drop_down =  dcc.Dropdown(id='drop_item')\n",
    "\n",
    "slider = dcc.RangeSlider(\n",
    "            id=\"slider\",\n",
    "            min = data.year.min(),\n",
    "            max = data.year.max(),\n",
    "            marks = {int(i) :str(i)+'년도' for i in data.year.unique()})\n",
    "\n",
    "bar_chart =dcc.Graph(id='bar_chart' )\n",
    "table = dash_table.DataTable(id='table')\n",
    "table_dropdown=  dcc.Dropdown(\n",
    "            id='table_dropdown',\n",
    "            options=[{'label':i,'value':i} for i in data.columns],\n",
    "            multi = True)\n",
    "table_button = html.Button(\"👍\",id='table_button', n_clicks=0, style={'font-size':'50px','width':'100%','background-color':'blue'})\n",
    "input_box = dcc.Input(\n",
    "            style={\"width\":\"100%\"},\n",
    "            id=\"input_box\",\n",
    "            type=\"text\",\n",
    "            placeholder=\"Country Input\")"
   ]
  },
  {
   "cell_type": "code",
   "execution_count": 3,
   "metadata": {},
   "outputs": [],
   "source": [
    "controler1 = dbc.Card(\n",
    "    [\n",
    "        radio_item,\n",
    "        drop_down,\n",
    "        slider\n",
    "    ]\n",
    ") \n",
    "controler2 = dbc.Card(\n",
    "    [\n",
    "        input_box,\n",
    "        table_dropdown,\n",
    "        table_button\n",
    "    ]\n",
    ")"
   ]
  },
  {
   "cell_type": "code",
   "execution_count": 4,
   "metadata": {},
   "outputs": [],
   "source": [
    "app=dash.Dash(__name__,external_stylesheets=[dbc.themes.GRID])\n",
    "app.layout = dbc.Container(\n",
    "    [\n",
    "      dbc.Row(\n",
    "          [\n",
    "              dbc.Col(controler1),\n",
    "              dbc.Col(bar_chart)\n",
    "          ]\n",
    "      ),\n",
    "      dbc.Row(\n",
    "          [\n",
    "              dbc.Col(controler2),\n",
    "              dbc.Col(table)\n",
    "          ]\n",
    "      )\n",
    "    ]\n",
    ")"
   ]
  },
  {
   "cell_type": "code",
   "execution_count": 173,
   "metadata": {},
   "outputs": [],
   "source": [
    "app=dash.Dash(__name__,external_stylesheets=[dbc.themes.GRID])\n",
    "app.layout = html.Div(\n",
    "    [\n",
    "        dbc.Row(\n",
    "            [\n",
    "                dbc.Col(html.Div([html.Label(\"대륙\"), radio_item])),\n",
    "                dbc.Col(html.Div([html.Label(\"국가\"), drop_down])),\n",
    "                \n",
    "            ],\n",
    "             style={\"margin\":\"20px\"}\n",
    "        ),\n",
    "        html.Hr(style={'border':\"dotted 3px red\"}),\n",
    "        dbc.Row(\n",
    "            [\n",
    "                dbc.Col(input_box,style={\"margin\":\"auto\"}),\n",
    "                dbc.Col(table_dropdown,style={\"margin\":\"auto\"}),\n",
    "                dbc.Col(table_button,style={\"margin\":\"auto\"}),\n",
    "                \n",
    "            ],\n",
    "            style={\"margin\":\"20px\"}\n",
    "        ),\n",
    "        dbc.Row(\n",
    "            [\n",
    "                dbc.Col(table)\n",
    "            ]\n",
    "        ),\n",
    "        html.Hr(style={'border':\"dotted 3px red\"}),\n",
    "        dbc.Row(\n",
    "            [\n",
    "                dbc.Col(slider,style={\"margin\":\"auto\"}),\n",
    "                dbc.Col(bar_chart,style={\"border\":\"solid 2px\",\"margin-right\":\"15px\"})\n",
    "            ],\n",
    "            style={\"margin\":\"20px\"}\n",
    "        )\n",
    "    ]\n",
    ")"
   ]
  },
  {
   "cell_type": "code",
   "execution_count": 5,
   "metadata": {},
   "outputs": [],
   "source": [
    "@app.callback(\n",
    "    Output('drop_item','options'),\n",
    "    Input('radio_item','value')\n",
    ")\n",
    "def update_drop_down(value):\n",
    "    options = [{'label':i,'value':i} for i in data.loc[data.continent == value,\"country\"].unique()]\n",
    "    return options\n",
    "\n",
    "@app.callback(\n",
    "    Output('bar_chart','figure'),\n",
    "    Input('drop_item','value'),\n",
    "    Input('slider','value')\n",
    ")\n",
    "def update_graph(country,year):\n",
    "    data1 = data.loc[(data.country==country) & ((data.year >= int(year[0])) & (data.year <= int(year[1]))),['year','pop']]\n",
    "    fig = px.bar(data1, x='year',y='pop',color=\"pop\")\n",
    "    return fig\n",
    "\n",
    "@app.callback(\n",
    "    Output('table','columns'),\n",
    "    Output('table','data'),\n",
    "    Input('table_button','n_clicks'),\n",
    "    State('input_box','value'),\n",
    "    State('table_dropdown','value')\n",
    ")\n",
    "def update_table(n,inp,column):\n",
    "    columns = [{'name':i,'id':i} for i in column]\n",
    "    data1 = data.loc[data.country.str.contains(inp),column].to_dict('records')\n",
    "    return columns,data1"
   ]
  },
  {
   "cell_type": "code",
   "execution_count": 6,
   "metadata": {},
   "outputs": [
    {
     "name": "stdout",
     "output_type": "stream",
     "text": [
      "Dash is running on http://127.0.0.1:8050/\n",
      "\n",
      " * Serving Flask app \"__main__\" (lazy loading)\n",
      " * Environment: production\n",
      "   WARNING: This is a development server. Do not use it in a production deployment.\n",
      "   Use a production WSGI server instead.\n",
      " * Debug mode: off\n"
     ]
    },
    {
     "name": "stderr",
     "output_type": "stream",
     "text": [
      " * Running on http://127.0.0.1:8050/ (Press CTRL+C to quit)\n",
      "127.0.0.1 - - [15/Jun/2021 17:17:55] \"\u001b[37mGET / HTTP/1.1\u001b[0m\" 200 -\n",
      "127.0.0.1 - - [15/Jun/2021 17:17:55] \"\u001b[37mGET /_dash-layout HTTP/1.1\u001b[0m\" 200 -\n",
      "127.0.0.1 - - [15/Jun/2021 17:17:55] \"\u001b[37mGET /_dash-dependencies HTTP/1.1\u001b[0m\" 200 -\n",
      "127.0.0.1 - - [15/Jun/2021 17:17:55] \"\u001b[37mGET /_favicon.ico?v=1.20.0 HTTP/1.1\u001b[0m\" 200 -\n",
      "127.0.0.1 - - [15/Jun/2021 17:17:56] \"\u001b[37mPOST /_dash-update-component HTTP/1.1\u001b[0m\" 200 -\n",
      "127.0.0.1 - - [15/Jun/2021 17:17:56] \"\u001b[37mGET /_dash-component-suites/dash_table/async-highlight.js HTTP/1.1\u001b[0m\" 200 -\n"
     ]
    },
    {
     "name": "stdout",
     "output_type": "stream",
     "text": [
      "Exception on /_dash-update-component [POST]\n",
      "Traceback (most recent call last):\n",
      "  File \"C:\\Users\\admin\\anaconda3\\lib\\site-packages\\flask\\app.py\", line 2447, in wsgi_app\n",
      "    response = self.full_dispatch_request()\n",
      "  File \"C:\\Users\\admin\\anaconda3\\lib\\site-packages\\flask\\app.py\", line 1952, in full_dispatch_request\n",
      "    rv = self.handle_user_exception(e)\n",
      "  File \"C:\\Users\\admin\\anaconda3\\lib\\site-packages\\flask\\app.py\", line 1821, in handle_user_exception\n",
      "    reraise(exc_type, exc_value, tb)\n",
      "  File \"C:\\Users\\admin\\anaconda3\\lib\\site-packages\\flask\\_compat.py\", line 39, in reraise\n",
      "    raise value\n",
      "  File \"C:\\Users\\admin\\anaconda3\\lib\\site-packages\\flask\\app.py\", line 1950, in full_dispatch_request\n",
      "    rv = self.dispatch_request()\n",
      "  File \"C:\\Users\\admin\\anaconda3\\lib\\site-packages\\flask\\app.py\", line 1936, in dispatch_request\n",
      "    return self.view_functions[rule.endpoint](**req.view_args)\n",
      "  File \"C:\\Users\\admin\\anaconda3\\lib\\site-packages\\dash\\dash.py\", line 1079, in dispatch\n",
      "    response.set_data(func(*args, outputs_list=outputs_list))\n",
      "  File \"C:\\Users\\admin\\anaconda3\\lib\\site-packages\\dash\\dash.py\", line 1010, in add_context\n",
      "    output_value = func(*args, **kwargs)  # %% callback invoked %%\n",
      "  File \"<ipython-input-5-cbd344655008>\", line 15, in update_graph\n",
      "    data1 = data.loc[(data.country==country) & ((data.year >= int(year[0])) & (data.year <= int(year[1]))),['year','pop']]\n",
      "TypeError: 'NoneType' object is not subscriptable\n"
     ]
    },
    {
     "name": "stderr",
     "output_type": "stream",
     "text": [
      "127.0.0.1 - - [15/Jun/2021 17:17:56] \"\u001b[35m\u001b[1mPOST /_dash-update-component HTTP/1.1\u001b[0m\" 500 -\n"
     ]
    },
    {
     "name": "stdout",
     "output_type": "stream",
     "text": [
      "Exception on /_dash-update-component [POST]\n",
      "Traceback (most recent call last):\n",
      "  File \"C:\\Users\\admin\\anaconda3\\lib\\site-packages\\flask\\app.py\", line 2447, in wsgi_app\n",
      "    response = self.full_dispatch_request()\n",
      "  File \"C:\\Users\\admin\\anaconda3\\lib\\site-packages\\flask\\app.py\", line 1952, in full_dispatch_request\n",
      "    rv = self.handle_user_exception(e)\n",
      "  File \"C:\\Users\\admin\\anaconda3\\lib\\site-packages\\flask\\app.py\", line 1821, in handle_user_exception\n",
      "    reraise(exc_type, exc_value, tb)\n",
      "  File \"C:\\Users\\admin\\anaconda3\\lib\\site-packages\\flask\\_compat.py\", line 39, in reraise\n",
      "    raise value\n",
      "  File \"C:\\Users\\admin\\anaconda3\\lib\\site-packages\\flask\\app.py\", line 1950, in full_dispatch_request\n",
      "    rv = self.dispatch_request()\n",
      "  File \"C:\\Users\\admin\\anaconda3\\lib\\site-packages\\flask\\app.py\", line 1936, in dispatch_request\n",
      "    return self.view_functions[rule.endpoint](**req.view_args)\n",
      "  File \"C:\\Users\\admin\\anaconda3\\lib\\site-packages\\dash\\dash.py\", line 1079, in dispatch\n",
      "    response.set_data(func(*args, outputs_list=outputs_list))\n",
      "  File \"C:\\Users\\admin\\anaconda3\\lib\\site-packages\\dash\\dash.py\", line 1010, in add_context\n",
      "    output_value = func(*args, **kwargs)  # %% callback invoked %%\n",
      "  File \"<ipython-input-5-cbd344655008>\", line 27, in update_table\n",
      "    columns = [{'name':i,'id':i} for i in column]\n",
      "TypeError: 'NoneType' object is not iterable\n"
     ]
    },
    {
     "name": "stderr",
     "output_type": "stream",
     "text": [
      "127.0.0.1 - - [15/Jun/2021 17:17:56] \"\u001b[35m\u001b[1mPOST /_dash-update-component HTTP/1.1\u001b[0m\" 500 -\n",
      "127.0.0.1 - - [15/Jun/2021 17:17:56] \"\u001b[37mGET /_dash-component-suites/dash_table/async-table.js HTTP/1.1\u001b[0m\" 200 -\n",
      "127.0.0.1 - - [15/Jun/2021 17:17:57] \"\u001b[37mPOST /_dash-update-component HTTP/1.1\u001b[0m\" 200 -\n"
     ]
    },
    {
     "name": "stdout",
     "output_type": "stream",
     "text": [
      "Exception on /_dash-update-component [POST]\n",
      "Traceback (most recent call last):\n",
      "  File \"C:\\Users\\admin\\anaconda3\\lib\\site-packages\\flask\\app.py\", line 2447, in wsgi_app\n",
      "    response = self.full_dispatch_request()\n",
      "  File \"C:\\Users\\admin\\anaconda3\\lib\\site-packages\\flask\\app.py\", line 1952, in full_dispatch_request\n",
      "    rv = self.handle_user_exception(e)\n",
      "  File \"C:\\Users\\admin\\anaconda3\\lib\\site-packages\\flask\\app.py\", line 1821, in handle_user_exception\n",
      "    reraise(exc_type, exc_value, tb)\n",
      "  File \"C:\\Users\\admin\\anaconda3\\lib\\site-packages\\flask\\_compat.py\", line 39, in reraise\n",
      "    raise value\n",
      "  File \"C:\\Users\\admin\\anaconda3\\lib\\site-packages\\flask\\app.py\", line 1950, in full_dispatch_request\n",
      "    rv = self.dispatch_request()\n",
      "  File \"C:\\Users\\admin\\anaconda3\\lib\\site-packages\\flask\\app.py\", line 1936, in dispatch_request\n",
      "    return self.view_functions[rule.endpoint](**req.view_args)\n",
      "  File \"C:\\Users\\admin\\anaconda3\\lib\\site-packages\\dash\\dash.py\", line 1079, in dispatch\n",
      "    response.set_data(func(*args, outputs_list=outputs_list))\n",
      "  File \"C:\\Users\\admin\\anaconda3\\lib\\site-packages\\dash\\dash.py\", line 1010, in add_context\n",
      "    output_value = func(*args, **kwargs)  # %% callback invoked %%\n",
      "  File \"<ipython-input-5-cbd344655008>\", line 15, in update_graph\n",
      "    data1 = data.loc[(data.country==country) & ((data.year >= int(year[0])) & (data.year <= int(year[1]))),['year','pop']]\n",
      "TypeError: 'NoneType' object is not subscriptable\n"
     ]
    },
    {
     "name": "stderr",
     "output_type": "stream",
     "text": [
      "127.0.0.1 - - [15/Jun/2021 17:17:58] \"\u001b[35m\u001b[1mPOST /_dash-update-component HTTP/1.1\u001b[0m\" 500 -\n",
      "127.0.0.1 - - [15/Jun/2021 17:18:00] \"\u001b[37mPOST /_dash-update-component HTTP/1.1\u001b[0m\" 200 -\n",
      "127.0.0.1 - - [15/Jun/2021 17:18:00] \"\u001b[37mPOST /_dash-update-component HTTP/1.1\u001b[0m\" 200 -\n",
      "127.0.0.1 - - [15/Jun/2021 17:18:05] \"\u001b[37mPOST /_dash-update-component HTTP/1.1\u001b[0m\" 200 -\n",
      "127.0.0.1 - - [15/Jun/2021 17:18:11] \"\u001b[37mPOST /_dash-update-component HTTP/1.1\u001b[0m\" 200 -\n"
     ]
    }
   ],
   "source": [
    "app.run_server()"
   ]
  },
  {
   "cell_type": "code",
   "execution_count": null,
   "metadata": {},
   "outputs": [],
   "source": []
  }
 ],
 "metadata": {
  "kernelspec": {
   "display_name": "Python 3",
   "language": "python",
   "name": "python3"
  },
  "language_info": {
   "codemirror_mode": {
    "name": "ipython",
    "version": 3
   },
   "file_extension": ".py",
   "mimetype": "text/x-python",
   "name": "python",
   "nbconvert_exporter": "python",
   "pygments_lexer": "ipython3",
   "version": "3.8.5"
  }
 },
 "nbformat": 4,
 "nbformat_minor": 4
}
