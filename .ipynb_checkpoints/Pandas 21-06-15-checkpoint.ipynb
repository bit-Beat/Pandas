{
 "cells": [
  {
   "cell_type": "code",
   "execution_count": 13,
   "metadata": {},
   "outputs": [],
   "source": [
    "import pandas as pd\n",
    "import numpy as np\n",
    "import plotly.express as px\n",
    "\n",
    "import dash \n",
    "import dash_html_components as html\n",
    "import dash_core_components as dcc\n",
    "from dash.dependencies import Input, Output"
   ]
  },
  {
   "cell_type": "code",
   "execution_count": 14,
   "metadata": {},
   "outputs": [],
   "source": [
    "app = dash.Dash(__name__)"
   ]
  },
  {
   "cell_type": "code",
   "execution_count": 15,
   "metadata": {},
   "outputs": [],
   "source": [
    "data = px.data.gapminder()"
   ]
  },
  {
   "cell_type": "code",
   "execution_count": 16,
   "metadata": {},
   "outputs": [],
   "source": [
    "groupRadio = dcc.RadioItems(\n",
    "            id='group_Radio',\n",
    "            options = [{'label':str(i)+\"조\",'value':i} for i in range(1,7)]\n",
    "        )"
   ]
  },
  {
   "cell_type": "code",
   "execution_count": 17,
   "metadata": {},
   "outputs": [],
   "source": [
    "app.layout = html.Div(\n",
    "    [\n",
    "        html.H1(\"😁\"),\n",
    "        html.Img(src=\"data:image/jpeg;base64,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\"),\n",
    "        html.P(html.Button(\"👍\",style={'width':'300px'} )),\n",
    "        html.Hr(),\n",
    "        groupRadio,\n",
    "        html.Div(id='select_group'),\n",
    "        html.Div(id='selected_name')\n",
    "    ]\n",
    ")"
   ]
  },
  {
   "cell_type": "code",
   "execution_count": 18,
   "metadata": {},
   "outputs": [],
   "source": [
    "@app.callback(\n",
    "    Output('selected_name','children'),\n",
    "    Input('drop_down_name','value')\n",
    ")\n",
    "def update_name(name):\n",
    "    score = np.random.choice(['A','B','C','D','F'])\n",
    "    out = \"{}님의 학점은 {}입니다.\".format(name,score)\n",
    "    \n",
    "    recommand = np.where(score=='A' or score=='B',\"Excellent!!\",np.where(score == 'C' or score == 'D',\"Good!\",\"Caution\"))\n",
    "    \n",
    "    return [html.H3(out),html.H3(recommand)]\n",
    "    "
   ]
  },
  {
   "cell_type": "code",
   "execution_count": 19,
   "metadata": {},
   "outputs": [],
   "source": [
    "@app.callback(\n",
    "    Output('select_group','children'),\n",
    "    Input('group_Radio','value')\n",
    ")\n",
    "def update_select_group(value):\n",
    "    menu = ['찜닭','김피탕','닭가슴살','군계란','연어','짜장면','치킨']\n",
    "    \n",
    "    name2 = ['심명진','곽운일','김도영','편도준']\n",
    "    namee = ['이재성','백승현','공성경']\n",
    "    nameee = ['김준현','손민아','이용미']\n",
    "    \n",
    "    x = np.random.choice(menu)\n",
    "    z = np.random.choice(name)\n",
    "    \n",
    "    if value==2 :\n",
    "        return [ dcc.Dropdown(id='drop_down_name', options = [{'label':i,'value':i} for i in name2]) ]\n",
    "    elif value==3 :\n",
    "        return [ dcc.Dropdown(id='drop_down_name', options = [{'label':i,'value':i} for i in nameee])]\n",
    "    elif value==4 :\n",
    "        return [ dcc.Dropdown(id='drop_down_name', options = [{'label':i,'value':i} for i in nameee])]\n"
   ]
  },
  {
   "cell_type": "code",
   "execution_count": null,
   "metadata": {},
   "outputs": [
    {
     "name": "stdout",
     "output_type": "stream",
     "text": [
      "Dash is running on http://127.0.0.1:7777/\n",
      "\n",
      "Dash is running on http://127.0.0.1:7777/\n",
      "\n",
      " * Serving Flask app \"__main__\" (lazy loading)\n",
      " * Environment: production\n",
      "   WARNING: This is a development server. Do not use it in a production deployment.\n",
      "   Use a production WSGI server instead.\n",
      " * Debug mode: off\n"
     ]
    },
    {
     "name": "stderr",
     "output_type": "stream",
     "text": [
      " * Running on http://127.0.0.1:7777/ (Press CTRL+C to quit)\n",
      "127.0.0.1 - - [15/Jun/2021 12:18:57] \"\u001b[37mGET / HTTP/1.1\u001b[0m\" 200 -\n",
      "127.0.0.1 - - [15/Jun/2021 12:18:57] \"\u001b[37mGET /_dash-component-suites/dash_renderer/prop-types@15.v1_9_1m1623650891.7.2.min.js HTTP/1.1\u001b[0m\" 200 -\n",
      "127.0.0.1 - - [15/Jun/2021 12:18:57] \"\u001b[37mGET /_dash-component-suites/dash_renderer/react@16.v1_9_1m1623650891.14.0.min.js HTTP/1.1\u001b[0m\" 200 -\n",
      "127.0.0.1 - - [15/Jun/2021 12:18:57] \"\u001b[37mGET /_dash-component-suites/dash_renderer/polyfill@7.v1_9_1m1623650891.8.7.min.js HTTP/1.1\u001b[0m\" 200 -\n",
      "127.0.0.1 - - [15/Jun/2021 12:18:57] \"\u001b[37mGET /_dash-component-suites/dash_html_components/dash_html_components.v1_1_3m1623650891.min.js HTTP/1.1\u001b[0m\" 200 -\n",
      "127.0.0.1 - - [15/Jun/2021 12:18:57] \"\u001b[37mGET /_dash-component-suites/dash_renderer/react-dom@16.v1_9_1m1623650891.14.0.min.js HTTP/1.1\u001b[0m\" 200 -\n",
      "127.0.0.1 - - [15/Jun/2021 12:18:57] \"\u001b[37mGET /_dash-component-suites/dash_core_components/dash_core_components-shared.v1_16_0m1623650891.js HTTP/1.1\u001b[0m\" 200 -\n",
      "127.0.0.1 - - [15/Jun/2021 12:18:57] \"\u001b[37mGET /_dash-component-suites/dash_renderer/dash_renderer.v1_9_1m1623650891.min.js HTTP/1.1\u001b[0m\" 200 -\n",
      "127.0.0.1 - - [15/Jun/2021 12:18:57] \"\u001b[37mGET /_dash-component-suites/dash_core_components/dash_core_components.v1_16_0m1623650891.min.js HTTP/1.1\u001b[0m\" 200 -\n",
      "127.0.0.1 - - [15/Jun/2021 12:18:58] \"\u001b[37mGET /_dash-layout HTTP/1.1\u001b[0m\" 200 -\n",
      "127.0.0.1 - - [15/Jun/2021 12:18:58] \"\u001b[37mGET /_dash-dependencies HTTP/1.1\u001b[0m\" 200 -\n",
      "127.0.0.1 - - [15/Jun/2021 12:18:58] \"\u001b[37mGET /_favicon.ico?v=1.20.0 HTTP/1.1\u001b[0m\" 200 -\n"
     ]
    },
    {
     "name": "stdout",
     "output_type": "stream",
     "text": [
      "Exception on /_dash-update-component [POST]\n",
      "Traceback (most recent call last):\n",
      "  File \"C:\\Users\\admin\\anaconda3\\lib\\site-packages\\flask\\app.py\", line 2447, in wsgi_app\n",
      "    response = self.full_dispatch_request()\n",
      "  File \"C:\\Users\\admin\\anaconda3\\lib\\site-packages\\flask\\app.py\", line 1952, in full_dispatch_request\n",
      "    rv = self.handle_user_exception(e)\n",
      "  File \"C:\\Users\\admin\\anaconda3\\lib\\site-packages\\flask\\app.py\", line 1821, in handle_user_exception\n",
      "    reraise(exc_type, exc_value, tb)\n",
      "  File \"C:\\Users\\admin\\anaconda3\\lib\\site-packages\\flask\\_compat.py\", line 39, in reraise\n",
      "    raise value\n",
      "  File \"C:\\Users\\admin\\anaconda3\\lib\\site-packages\\flask\\app.py\", line 1950, in full_dispatch_request\n",
      "    rv = self.dispatch_request()\n",
      "  File \"C:\\Users\\admin\\anaconda3\\lib\\site-packages\\flask\\app.py\", line 1936, in dispatch_request\n",
      "    return self.view_functions[rule.endpoint](**req.view_args)\n",
      "  File \"C:\\Users\\admin\\anaconda3\\lib\\site-packages\\dash\\dash.py\", line 1079, in dispatch\n",
      "    response.set_data(func(*args, outputs_list=outputs_list))\n",
      "  File \"C:\\Users\\admin\\anaconda3\\lib\\site-packages\\dash\\dash.py\", line 1010, in add_context\n",
      "    output_value = func(*args, **kwargs)  # %% callback invoked %%\n",
      "  File \"<ipython-input-19-54ada18f488d>\", line 13, in update_select_group\n",
      "    z = np.random.choice(name)\n",
      "NameError: name 'name' is not defined\n",
      "Exception on /_dash-update-component [POST]\n",
      "Traceback (most recent call last):\n",
      "  File \"C:\\Users\\admin\\anaconda3\\lib\\site-packages\\flask\\app.py\", line 2447, in wsgi_app\n",
      "    response = self.full_dispatch_request()\n",
      "  File \"C:\\Users\\admin\\anaconda3\\lib\\site-packages\\flask\\app.py\", line 1952, in full_dispatch_request\n",
      "    rv = self.handle_user_exception(e)\n",
      "  File \"C:\\Users\\admin\\anaconda3\\lib\\site-packages\\flask\\app.py\", line 1821, in handle_user_exception\n",
      "    reraise(exc_type, exc_value, tb)\n",
      "  File \"C:\\Users\\admin\\anaconda3\\lib\\site-packages\\flask\\_compat.py\", line 39, in reraise\n",
      "    raise value\n",
      "  File \"C:\\Users\\admin\\anaconda3\\lib\\site-packages\\flask\\app.py\", line 1950, in full_dispatch_request\n",
      "    rv = self.dispatch_request()\n",
      "  File \"C:\\Users\\admin\\anaconda3\\lib\\site-packages\\flask\\app.py\", line 1936, in dispatch_request\n",
      "    return self.view_functions[rule.endpoint](**req.view_args)\n",
      "  File \"C:\\Users\\admin\\anaconda3\\lib\\site-packages\\dash\\dash.py\", line 1079, in dispatch\n",
      "    response.set_data(func(*args, outputs_list=outputs_list))\n",
      "  File \"C:\\Users\\admin\\anaconda3\\lib\\site-packages\\dash\\dash.py\", line 1010, in add_context\n",
      "    output_value = func(*args, **kwargs)  # %% callback invoked %%\n",
      "  File \"<ipython-input-19-54ada18f488d>\", line 13, in update_select_group\n",
      "    z = np.random.choice(name)\n",
      "NameError: name 'name' is not defined\n"
     ]
    },
    {
     "name": "stderr",
     "output_type": "stream",
     "text": [
      "127.0.0.1 - - [15/Jun/2021 12:18:58] \"\u001b[35m\u001b[1mPOST /_dash-update-component HTTP/1.1\u001b[0m\" 500 -\n"
     ]
    },
    {
     "name": "stdout",
     "output_type": "stream",
     "text": [
      "Exception on /_dash-update-component [POST]\n",
      "Traceback (most recent call last):\n",
      "  File \"C:\\Users\\admin\\anaconda3\\lib\\site-packages\\flask\\app.py\", line 2447, in wsgi_app\n",
      "    response = self.full_dispatch_request()\n",
      "  File \"C:\\Users\\admin\\anaconda3\\lib\\site-packages\\flask\\app.py\", line 1952, in full_dispatch_request\n",
      "    rv = self.handle_user_exception(e)\n",
      "  File \"C:\\Users\\admin\\anaconda3\\lib\\site-packages\\flask\\app.py\", line 1821, in handle_user_exception\n",
      "    reraise(exc_type, exc_value, tb)\n",
      "  File \"C:\\Users\\admin\\anaconda3\\lib\\site-packages\\flask\\_compat.py\", line 39, in reraise\n",
      "    raise value\n",
      "  File \"C:\\Users\\admin\\anaconda3\\lib\\site-packages\\flask\\app.py\", line 1950, in full_dispatch_request\n",
      "    rv = self.dispatch_request()\n",
      "  File \"C:\\Users\\admin\\anaconda3\\lib\\site-packages\\flask\\app.py\", line 1936, in dispatch_request\n",
      "    return self.view_functions[rule.endpoint](**req.view_args)\n",
      "  File \"C:\\Users\\admin\\anaconda3\\lib\\site-packages\\dash\\dash.py\", line 1079, in dispatch\n",
      "    response.set_data(func(*args, outputs_list=outputs_list))\n",
      "  File \"C:\\Users\\admin\\anaconda3\\lib\\site-packages\\dash\\dash.py\", line 1010, in add_context\n",
      "    output_value = func(*args, **kwargs)  # %% callback invoked %%\n",
      "  File \"<ipython-input-19-54ada18f488d>\", line 13, in update_select_group\n",
      "    z = np.random.choice(name)\n",
      "NameError: name 'name' is not defined\n",
      "Exception on /_dash-update-component [POST]\n",
      "Traceback (most recent call last):\n",
      "  File \"C:\\Users\\admin\\anaconda3\\lib\\site-packages\\flask\\app.py\", line 2447, in wsgi_app\n",
      "    response = self.full_dispatch_request()\n",
      "  File \"C:\\Users\\admin\\anaconda3\\lib\\site-packages\\flask\\app.py\", line 1952, in full_dispatch_request\n",
      "    rv = self.handle_user_exception(e)\n",
      "  File \"C:\\Users\\admin\\anaconda3\\lib\\site-packages\\flask\\app.py\", line 1821, in handle_user_exception\n",
      "    reraise(exc_type, exc_value, tb)\n",
      "  File \"C:\\Users\\admin\\anaconda3\\lib\\site-packages\\flask\\_compat.py\", line 39, in reraise\n",
      "    raise value\n",
      "  File \"C:\\Users\\admin\\anaconda3\\lib\\site-packages\\flask\\app.py\", line 1950, in full_dispatch_request\n",
      "    rv = self.dispatch_request()\n",
      "  File \"C:\\Users\\admin\\anaconda3\\lib\\site-packages\\flask\\app.py\", line 1936, in dispatch_request\n",
      "    return self.view_functions[rule.endpoint](**req.view_args)\n",
      "  File \"C:\\Users\\admin\\anaconda3\\lib\\site-packages\\dash\\dash.py\", line 1079, in dispatch\n",
      "    response.set_data(func(*args, outputs_list=outputs_list))\n",
      "  File \"C:\\Users\\admin\\anaconda3\\lib\\site-packages\\dash\\dash.py\", line 1010, in add_context\n",
      "    output_value = func(*args, **kwargs)  # %% callback invoked %%\n",
      "  File \"<ipython-input-19-54ada18f488d>\", line 13, in update_select_group\n",
      "    z = np.random.choice(name)\n",
      "NameError: name 'name' is not defined\n"
     ]
    },
    {
     "name": "stderr",
     "output_type": "stream",
     "text": [
      "127.0.0.1 - - [15/Jun/2021 12:18:59] \"\u001b[35m\u001b[1mPOST /_dash-update-component HTTP/1.1\u001b[0m\" 500 -\n"
     ]
    },
    {
     "name": "stdout",
     "output_type": "stream",
     "text": [
      "Exception on /_dash-update-component [POST]\n",
      "Traceback (most recent call last):\n",
      "  File \"C:\\Users\\admin\\anaconda3\\lib\\site-packages\\flask\\app.py\", line 2447, in wsgi_app\n",
      "    response = self.full_dispatch_request()\n",
      "  File \"C:\\Users\\admin\\anaconda3\\lib\\site-packages\\flask\\app.py\", line 1952, in full_dispatch_request\n",
      "    rv = self.handle_user_exception(e)\n",
      "  File \"C:\\Users\\admin\\anaconda3\\lib\\site-packages\\flask\\app.py\", line 1821, in handle_user_exception\n",
      "    reraise(exc_type, exc_value, tb)\n",
      "  File \"C:\\Users\\admin\\anaconda3\\lib\\site-packages\\flask\\_compat.py\", line 39, in reraise\n",
      "    raise value\n",
      "  File \"C:\\Users\\admin\\anaconda3\\lib\\site-packages\\flask\\app.py\", line 1950, in full_dispatch_request\n",
      "    rv = self.dispatch_request()\n",
      "  File \"C:\\Users\\admin\\anaconda3\\lib\\site-packages\\flask\\app.py\", line 1936, in dispatch_request\n",
      "    return self.view_functions[rule.endpoint](**req.view_args)\n",
      "  File \"C:\\Users\\admin\\anaconda3\\lib\\site-packages\\dash\\dash.py\", line 1079, in dispatch\n",
      "    response.set_data(func(*args, outputs_list=outputs_list))\n",
      "  File \"C:\\Users\\admin\\anaconda3\\lib\\site-packages\\dash\\dash.py\", line 1010, in add_context\n",
      "    output_value = func(*args, **kwargs)  # %% callback invoked %%\n",
      "  File \"<ipython-input-19-54ada18f488d>\", line 13, in update_select_group\n",
      "    z = np.random.choice(name)\n",
      "NameError: name 'name' is not defined\n",
      "Exception on /_dash-update-component [POST]\n",
      "Traceback (most recent call last):\n",
      "  File \"C:\\Users\\admin\\anaconda3\\lib\\site-packages\\flask\\app.py\", line 2447, in wsgi_app\n",
      "    response = self.full_dispatch_request()\n",
      "  File \"C:\\Users\\admin\\anaconda3\\lib\\site-packages\\flask\\app.py\", line 1952, in full_dispatch_request\n",
      "    rv = self.handle_user_exception(e)\n",
      "  File \"C:\\Users\\admin\\anaconda3\\lib\\site-packages\\flask\\app.py\", line 1821, in handle_user_exception\n",
      "    reraise(exc_type, exc_value, tb)\n",
      "  File \"C:\\Users\\admin\\anaconda3\\lib\\site-packages\\flask\\_compat.py\", line 39, in reraise\n",
      "    raise value\n",
      "  File \"C:\\Users\\admin\\anaconda3\\lib\\site-packages\\flask\\app.py\", line 1950, in full_dispatch_request\n",
      "    rv = self.dispatch_request()\n",
      "  File \"C:\\Users\\admin\\anaconda3\\lib\\site-packages\\flask\\app.py\", line 1936, in dispatch_request\n",
      "    return self.view_functions[rule.endpoint](**req.view_args)\n",
      "  File \"C:\\Users\\admin\\anaconda3\\lib\\site-packages\\dash\\dash.py\", line 1079, in dispatch\n",
      "    response.set_data(func(*args, outputs_list=outputs_list))\n",
      "  File \"C:\\Users\\admin\\anaconda3\\lib\\site-packages\\dash\\dash.py\", line 1010, in add_context\n",
      "    output_value = func(*args, **kwargs)  # %% callback invoked %%\n",
      "  File \"<ipython-input-19-54ada18f488d>\", line 13, in update_select_group\n",
      "    z = np.random.choice(name)\n",
      "NameError: name 'name' is not defined\n"
     ]
    },
    {
     "name": "stderr",
     "output_type": "stream",
     "text": [
      "127.0.0.1 - - [15/Jun/2021 12:19:10] \"\u001b[35m\u001b[1mPOST /_dash-update-component HTTP/1.1\u001b[0m\" 500 -\n"
     ]
    }
   ],
   "source": [
    "app.run_server(port = '7777')"
   ]
  },
  {
   "cell_type": "code",
   "execution_count": 8,
   "metadata": {},
   "outputs": [],
   "source": [
    "@app.callback(\n",
    "    Output('select_group','children'),\n",
    "    Input('group_Radio','value')\n",
    ")\n",
    "def update_select_group(value):\n",
    "    menu = ['찜닭','김피탕','닭가슴살','군계란','연어','짜장면','치킨']\n",
    "    name = ['심명진','곽운일','김도영','편도준']\n",
    "    x = np.random.choice(menu)\n",
    "    y = np.random.randint(1,60,7)\n",
    "    y = list(map(str, y))\n",
    "    y = '-'.join(y)\n",
    "    z = np.random.choice(name)\n",
    "    \n",
    "        \n",
    "    return html.H1(\"{}조는 {} 메뉴를 선택하였습니다.\".format(value,x)), html.H1(\"오늘의 구매자 : {}\".format(z)), html.Hr(),html.H2(\"추천 Lotto : {}\".format(y))"
   ]
  }
 ],
 "metadata": {
  "kernelspec": {
   "display_name": "Python 3",
   "language": "python",
   "name": "python3"
  },
  "language_info": {
   "codemirror_mode": {
    "name": "ipython",
    "version": 3
   },
   "file_extension": ".py",
   "mimetype": "text/x-python",
   "name": "python",
   "nbconvert_exporter": "python",
   "pygments_lexer": "ipython3",
   "version": "3.8.5"
  }
 },
 "nbformat": 4,
 "nbformat_minor": 4
}
