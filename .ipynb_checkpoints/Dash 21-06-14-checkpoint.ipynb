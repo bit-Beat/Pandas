{
 "cells": [
  {
   "cell_type": "code",
   "execution_count": 1,
   "metadata": {},
   "outputs": [],
   "source": [
    "import numpy as np\n",
    "import pandas as pd\n",
    "import plotly.express as px\n",
    "\n",
    "import dash \n",
    "import dash_html_components as html \n",
    "import dash_core_components as dcc\n",
    "\n",
    "from dash.dependencies import Input, Output"
   ]
  },
  {
   "cell_type": "code",
   "execution_count": 2,
   "metadata": {},
   "outputs": [],
   "source": [
    "df = px.data.gapminder()"
   ]
  },
  {
   "cell_type": "code",
   "execution_count": 9,
   "metadata": {
    "scrolled": true
   },
   "outputs": [
    {
     "data": {
      "text/plain": [
       "Index(['country', 'continent', 'year', 'lifeExp', 'pop', 'gdpPercap',\n",
       "       'iso_alpha', 'iso_num'],\n",
       "      dtype='object')"
      ]
     },
     "execution_count": 9,
     "metadata": {},
     "output_type": "execute_result"
    }
   ],
   "source": [
    "# fig.show()\n",
    "df.columns"
   ]
  },
  {
   "cell_type": "code",
   "execution_count": 3,
   "metadata": {},
   "outputs": [],
   "source": [
    "app = dash.Dash(__name__)\n",
    "app.layout = html.Div(\n",
    "    [\n",
    "        html.H1(\"Hello Dash!\"),\n",
    "        html.H2(\"Hello Dash!!\"),\n",
    "        \n",
    "        dcc.Dropdown(\n",
    "            id=\"my_first_dropdown\",\n",
    "            options = [\n",
    "                {'label':str(i)+\"년\",'value':i} for i in df.year.unique()\n",
    "            ]\n",
    "            \n",
    "        ),\n",
    "    \n",
    "        dcc.Graph(\n",
    "            id=\"my_graph\"\n",
    "        ),\n",
    "        \n",
    "        dcc.Dropdown(\n",
    "            id=\"my_sec_dropdown\",\n",
    "            options=[\n",
    "                {'label':i,'value':i} for i in df.continent.unique()\n",
    "            ]\n",
    "        ),\n",
    "        \n",
    "        dcc.Dropdown(\n",
    "            id=\"my_third_dropdown\",\n",
    "            options=[]\n",
    "        ),\n",
    "        html.Br(),\n",
    "        html.Br()\n",
    "    ]\n",
    ")"
   ]
  },
  {
   "cell_type": "code",
   "execution_count": 52,
   "metadata": {},
   "outputs": [
    {
     "data": {
      "text/plain": [
       "array(['Asia', 'Europe', 'Africa', 'Americas', 'Oceania'], dtype=object)"
      ]
     },
     "execution_count": 52,
     "metadata": {},
     "output_type": "execute_result"
    }
   ],
   "source": [
    "df.continent.unique()"
   ]
  },
  {
   "cell_type": "code",
   "execution_count": 4,
   "metadata": {},
   "outputs": [],
   "source": [
    "@app.callback(\n",
    "    Output('my_graph','figure'),\n",
    "    Input('my_first_dropdown','value')\n",
    ")\n",
    "\n",
    "def update_my_graph(year):\n",
    "    qry = 'year=='+str(year)\n",
    "    fig = px.scatter(df.query(qry), x=\"gdpPercap\", y=\"lifeExp\",\n",
    "                 size=\"pop\", color=\"continent\",\n",
    "                 hover_name=\"country\", log_x=True, size_max=60)\n",
    "    return fig\n",
    "\n",
    "@app.callback(\n",
    "    Output('my_third_dropdown','options'),\n",
    "    Input('my_sec_dropdown','value')\n",
    ")\n",
    "\n",
    "def update_my_third_dropdown(continent):\n",
    "    options = [{'label':i,'value':i} for i in df.loc[df.continent==continent,'country'].unique()]\n",
    "    return options"
   ]
  },
  {
   "cell_type": "code",
   "execution_count": null,
   "metadata": {},
   "outputs": [
    {
     "name": "stdout",
     "output_type": "stream",
     "text": [
      "Dash is running on http://127.0.0.1:8050/\n",
      "\n",
      " * Serving Flask app \"__main__\" (lazy loading)\n",
      " * Environment: production\n",
      "   WARNING: This is a development server. Do not use it in a production deployment.\n",
      "   Use a production WSGI server instead.\n",
      " * Debug mode: off\n"
     ]
    },
    {
     "name": "stderr",
     "output_type": "stream",
     "text": [
      " * Running on http://127.0.0.1:8050/ (Press CTRL+C to quit)\n",
      "127.0.0.1 - - [14/Jun/2021 17:05:54] \"\u001b[37mGET / HTTP/1.1\u001b[0m\" 200 -\n",
      "127.0.0.1 - - [14/Jun/2021 17:05:54] \"\u001b[37mGET /_dash-dependencies HTTP/1.1\u001b[0m\" 200 -\n",
      "127.0.0.1 - - [14/Jun/2021 17:05:54] \"\u001b[37mGET /_dash-layout HTTP/1.1\u001b[0m\" 200 -\n",
      "127.0.0.1 - - [14/Jun/2021 17:05:54] \"\u001b[37mPOST /_dash-update-component HTTP/1.1\u001b[0m\" 200 -\n"
     ]
    },
    {
     "name": "stdout",
     "output_type": "stream",
     "text": [
      "Exception on /_dash-update-component [POST]\n",
      "Traceback (most recent call last):\n",
      "  File \"C:\\Users\\admin\\anaconda3\\lib\\site-packages\\flask\\app.py\", line 2447, in wsgi_app\n",
      "    response = self.full_dispatch_request()\n",
      "  File \"C:\\Users\\admin\\anaconda3\\lib\\site-packages\\flask\\app.py\", line 1952, in full_dispatch_request\n",
      "    rv = self.handle_user_exception(e)\n",
      "  File \"C:\\Users\\admin\\anaconda3\\lib\\site-packages\\flask\\app.py\", line 1821, in handle_user_exception\n",
      "    reraise(exc_type, exc_value, tb)\n",
      "  File \"C:\\Users\\admin\\anaconda3\\lib\\site-packages\\flask\\_compat.py\", line 39, in reraise\n",
      "    raise value\n",
      "  File \"C:\\Users\\admin\\anaconda3\\lib\\site-packages\\flask\\app.py\", line 1950, in full_dispatch_request\n",
      "    rv = self.dispatch_request()\n",
      "  File \"C:\\Users\\admin\\anaconda3\\lib\\site-packages\\flask\\app.py\", line 1936, in dispatch_request\n",
      "    return self.view_functions[rule.endpoint](**req.view_args)\n",
      "  File \"C:\\Users\\admin\\anaconda3\\lib\\site-packages\\dash\\dash.py\", line 1079, in dispatch\n",
      "    response.set_data(func(*args, outputs_list=outputs_list))\n",
      "  File \"C:\\Users\\admin\\anaconda3\\lib\\site-packages\\dash\\dash.py\", line 1010, in add_context\n",
      "    output_value = func(*args, **kwargs)  # %% callback invoked %%\n",
      "  File \"<ipython-input-4-94ccf512cca8>\", line 8, in update_my_graph\n",
      "    fig = px.scatter(df.query(qry), x=\"gdpPercap\", y=\"lifeExp\",\n",
      "  File \"C:\\Users\\admin\\anaconda3\\lib\\site-packages\\pandas\\core\\frame.py\", line 3341, in query\n",
      "    res = self.eval(expr, **kwargs)\n",
      "  File \"C:\\Users\\admin\\anaconda3\\lib\\site-packages\\pandas\\core\\frame.py\", line 3471, in eval\n",
      "    return _eval(expr, inplace=inplace, **kwargs)\n",
      "  File \"C:\\Users\\admin\\anaconda3\\lib\\site-packages\\pandas\\core\\computation\\eval.py\", line 346, in eval\n",
      "    ret = eng_inst.evaluate()\n",
      "  File \"C:\\Users\\admin\\anaconda3\\lib\\site-packages\\pandas\\core\\computation\\engines.py\", line 73, in evaluate\n",
      "    res = self._evaluate()\n",
      "  File \"C:\\Users\\admin\\anaconda3\\lib\\site-packages\\pandas\\core\\computation\\engines.py\", line 114, in _evaluate\n",
      "    return ne.evaluate(s, local_dict=scope)\n",
      "  File \"C:\\Users\\admin\\anaconda3\\lib\\site-packages\\numexpr\\necompiler.py\", line 816, in evaluate\n",
      "    _names_cache[expr_key] = getExprNames(ex, context)\n",
      "  File \"C:\\Users\\admin\\anaconda3\\lib\\site-packages\\numexpr\\necompiler.py\", line 707, in getExprNames\n",
      "    ex = stringToExpression(text, {}, context)\n",
      "  File \"C:\\Users\\admin\\anaconda3\\lib\\site-packages\\numexpr\\necompiler.py\", line 299, in stringToExpression\n",
      "    ex = eval(c, names)\n",
      "  File \"<expr>\", line 1, in <module>\n",
      "  File \"C:\\Users\\admin\\anaconda3\\lib\\site-packages\\numexpr\\expressions.py\", line 96, in func\n",
      "    raise TypeError(\"unsupported object type: %s\" % type(x))\n",
      "TypeError: unsupported object type: <class 'NoneType'>\n"
     ]
    },
    {
     "name": "stderr",
     "output_type": "stream",
     "text": [
      "127.0.0.1 - - [14/Jun/2021 17:05:54] \"\u001b[35m\u001b[1mPOST /_dash-update-component HTTP/1.1\u001b[0m\" 500 -\n",
      "127.0.0.1 - - [14/Jun/2021 17:05:56] \"\u001b[37mPOST /_dash-update-component HTTP/1.1\u001b[0m\" 200 -\n",
      "127.0.0.1 - - [14/Jun/2021 17:13:32] \"\u001b[37mPOST /_dash-update-component HTTP/1.1\u001b[0m\" 200 -\n"
     ]
    }
   ],
   "source": [
    "app.run_server()"
   ]
  }
 ],
 "metadata": {
  "kernelspec": {
   "display_name": "Python 3",
   "language": "python",
   "name": "python3"
  },
  "language_info": {
   "codemirror_mode": {
    "name": "ipython",
    "version": 3
   },
   "file_extension": ".py",
   "mimetype": "text/x-python",
   "name": "python",
   "nbconvert_exporter": "python",
   "pygments_lexer": "ipython3",
   "version": "3.8.5"
  }
 },
 "nbformat": 4,
 "nbformat_minor": 4
}
