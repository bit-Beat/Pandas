{
 "cells": [
  {
   "cell_type": "code",
   "execution_count": 62,
   "metadata": {},
   "outputs": [],
   "source": [
    "import numpy as np"
   ]
  },
  {
   "cell_type": "code",
   "execution_count": 63,
   "metadata": {},
   "outputs": [
    {
     "data": {
      "text/plain": [
       "array([ 1.,  0.,  2.,  0.,  4.,  0.,  8.,  0., 16.,  0.])"
      ]
     },
     "execution_count": 63,
     "metadata": {},
     "output_type": "execute_result"
    }
   ],
   "source": [
    "x = np.arange(5)\n",
    "y = np.zeros(10)\n",
    "np.power(2, x, out=y[::2])  # y[::2] : step 2\n",
    "y"
   ]
  },
  {
   "cell_type": "code",
   "execution_count": 70,
   "metadata": {},
   "outputs": [],
   "source": [
    "y = np.zeros(100)\n",
    "np.power(2,np.arange(1,101,2,dtype='uint64'),out=y[::2])\n",
    "y = y.astype(np.uint64)\n"
   ]
  },
  {
   "cell_type": "code",
   "execution_count": 72,
   "metadata": {
    "scrolled": true
   },
   "outputs": [
    {
     "data": {
      "text/plain": [
       "array([  3,   0,   5,   0,   7,   0,   9,   0,  11,   0,  13,   0,  15,\n",
       "         0,  17,   0,  19,   0,  21,   0,  23,   0,  25,   0,  27,   0,\n",
       "        29,   0,  31,   0,  33,   0,  35,   0,  37,   0,  39,   0,  41,\n",
       "         0,  43,   0,  45,   0,  47,   0,  49,   0,  51,   0,  53,   0,\n",
       "        55,   0,  57,   0,  59,   0,  61,   0,  63,   0,  65,   0,  67,\n",
       "         0,  69,   0,  71,   0,  73,   0,  75,   0,  77,   0,  79,   0,\n",
       "        81,   0,  83,   0,  85,   0,  87,   0,  89,   0,  91,   0,  93,\n",
       "         0,  95,   0,  97,   0,  99,   0, 101,   0], dtype=uint64)"
      ]
     },
     "execution_count": 72,
     "metadata": {},
     "output_type": "execute_result"
    }
   ],
   "source": [
    "y = np.zeros(100)\n",
    "np.add(2,np.arange(1,101,2),out=y[::2])\n",
    "y = y.astype(np.uint64)\n",
    "y"
   ]
  },
  {
   "cell_type": "code",
   "execution_count": 73,
   "metadata": {},
   "outputs": [],
   "source": [
    "x=np.arange(1,6)"
   ]
  },
  {
   "cell_type": "code",
   "execution_count": 81,
   "metadata": {},
   "outputs": [
    {
     "data": {
      "text/plain": [
       "array([ 1,  2,  3,  4,  5,  6,  7,  8,  9, 10])"
      ]
     },
     "execution_count": 81,
     "metadata": {},
     "output_type": "execute_result"
    }
   ],
   "source": [
    "a = np.arange(1,11)\n",
    "a"
   ]
  },
  {
   "cell_type": "code",
   "execution_count": 83,
   "metadata": {},
   "outputs": [
    {
     "data": {
      "text/plain": [
       "71"
      ]
     },
     "execution_count": 83,
     "metadata": {},
     "output_type": "execute_result"
    }
   ],
   "source": [
    "x = np.random.normal(0,1,1000)\n",
    "np.sum((x>0.5) & (x<0.7))"
   ]
  },
  {
   "cell_type": "code",
   "execution_count": 102,
   "metadata": {},
   "outputs": [
    {
     "data": {
      "text/plain": [
       "array([ 95.06, 120.06, 124.06, 104.06,  85.06, 119.06,  93.06, 103.06,\n",
       "       109.06,  82.06,  85.06, 108.06, 100.06, 123.06, 117.06, 120.06,\n",
       "        96.06,  88.06, 124.06, 108.06, 125.06, 105.06, 119.06, 111.06,\n",
       "       102.06, 119.06, 106.06, 115.06, 127.06, 119.06, 102.06, 119.06,\n",
       "       119.06,  81.06,  85.06, 108.06, 119.06, 116.06, 123.06, 127.06,\n",
       "        93.06,  88.06, 110.06,  88.06, 128.06,  81.06, 120.06, 104.06,\n",
       "       115.06, 113.06,  82.06, 110.06,  81.06,  84.06, 112.06, 111.06,\n",
       "       121.06, 112.06, 104.06,  95.06, 127.06,  97.06,  98.06,  93.06,\n",
       "       126.06, 113.06,  93.06, 108.06, 124.06, 106.06, 117.06, 126.06,\n",
       "       119.06, 127.06, 104.06, 121.06, 102.06, 116.06, 103.06, 120.06,\n",
       "       109.06, 112.06, 116.06,  93.06, 118.06, 125.06, 122.06,  83.06,\n",
       "       107.06,  99.06, 101.06, 105.06,  96.06, 106.06,  83.06, 124.06,\n",
       "       115.06,  93.06])"
      ]
     },
     "execution_count": 102,
     "metadata": {},
     "output_type": "execute_result"
    }
   ],
   "source": [
    "np.random.seed(10)\n",
    "x = np.random.randint(1,100,200)\n",
    "x[x>x.mean()] + x.std().round(2)"
   ]
  },
  {
   "cell_type": "code",
   "execution_count": 124,
   "metadata": {},
   "outputs": [
    {
     "name": "stdout",
     "output_type": "stream",
     "text": [
      "[[6 3 7 4 6 9]\n",
      " [2 6 7 4 3 7]\n",
      " [7 2 5 4 1 7]\n",
      " [5 1 4 0 9 5]]\n"
     ]
    },
    {
     "data": {
      "text/plain": [
       "array([1, 2, 3, 4, 5])"
      ]
     },
     "execution_count": 124,
     "metadata": {},
     "output_type": "execute_result"
    }
   ],
   "source": [
    "x = np.array([2,1,3,4,5])\n",
    "np.sort(x)[::-1]\n",
    "i = np.argsort(x)\n",
    "x[i]\n",
    "rand = np.random.RandomState(42)\n",
    "X = rand.randint(0,10,(4,6))\n",
    "print(X)\n",
    "np.sort(X,axis=0)\n",
    "np.partition(x,4)"
   ]
  },
  {
   "cell_type": "code",
   "execution_count": 143,
   "metadata": {},
   "outputs": [
    {
     "name": "stdout",
     "output_type": "stream",
     "text": [
      "49.24\n"
     ]
    },
    {
     "data": {
      "text/plain": [
       "array([10, 16, 65, 29, 90, 94, 30,  9, 74,  1, 41, 37, 17, 12, 55, 89, 63,\n",
       "       34, 73, 79, 50, 52, 55, 78, 70, 14, 26, 14, 93, 87, 31, 31, 90, 13,\n",
       "       66, 32, 58, 37, 28, 19, 94, 78, 23, 24, 95, 12, 29, 75, 89, 10, 16,\n",
       "       19, 81, 72, 89, 12, 18, 47,  8, 76, 29, 34, 85, 97, 89, 45,  6,  5,\n",
       "       72, 89, 89, 51, 55, 35, 16, 78, 89, 16,  7, 86, 23, 12, 13, 93, 97,\n",
       "       63, 58, 80, 43, 58, 98, 51, 46, 41, 90, 74, 38,  1, 19, 24])"
      ]
     },
     "execution_count": 143,
     "metadata": {},
     "output_type": "execute_result"
    }
   ],
   "source": [
    "np.random.seed(10)\n",
    "x = np.random.randint(1,100,100)\n",
    "print(x.mean())\n",
    "x"
   ]
  }
 ],
 "metadata": {
  "kernelspec": {
   "display_name": "Python 3",
   "language": "python",
   "name": "python3"
  },
  "language_info": {
   "codemirror_mode": {
    "name": "ipython",
    "version": 3
   },
   "file_extension": ".py",
   "mimetype": "text/x-python",
   "name": "python",
   "nbconvert_exporter": "python",
   "pygments_lexer": "ipython3",
   "version": "3.8.5"
  }
 },
 "nbformat": 4,
 "nbformat_minor": 4
}
